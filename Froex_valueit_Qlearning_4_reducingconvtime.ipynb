{
 "cells": [
  {
   "cell_type": "markdown",
   "metadata": {},
   "source": [
    "Hello and Greetings!\n",
    "This code contains enviroment, algorithm and policy extraction for open AI gym frozen lake environment!\n",
    "You can get more example and info from open ai gym library at https://www.gymlibrary.dev/\n",
    "I have used the frozen lake environment which you can have a look at https://www.gymlibrary.dev/environments/toy_text/frozen_lake/\n",
    "There are also two algorithms to solve this problem: 1- value iteration method, 2- Q-learning method\n",
    "They both contain training using gym envinroment in addition to test and policy extraction!\n",
    "\n",
    "Best wishes \n",
    "Amir Hossein Nourian \n",
    "ahn.paf@gmail.com"
   ]
  },
  {
   "cell_type": "markdown",
   "metadata": {},
   "source": [
    "Making gym environment (default environment):"
   ]
  },
  {
   "cell_type": "code",
   "execution_count": 21,
   "metadata": {},
   "outputs": [
    {
     "data": {
      "text/plain": [
       "(0, {'prob': 1})"
      ]
     },
     "execution_count": 21,
     "metadata": {},
     "output_type": "execute_result"
    }
   ],
   "source": [
    "# frozen-lake-ex1.py\n",
    "import gym # loading the Gym library\n",
    " \n",
    "env = gym.make(\"FrozenLake8x8-v1\",render_mode=\"human\",is_slippery=False)\n",
    "#env = gym.make(\"FrozenLake8x8-v1\",is_slippery=False)\n",
    "env.reset()                    \n",
    "#env.render()"
   ]
  },
  {
   "cell_type": "markdown",
   "metadata": {},
   "source": [
    "Making gym environment (4x4 environment):"
   ]
  },
  {
   "cell_type": "code",
   "execution_count": 15,
   "metadata": {},
   "outputs": [],
   "source": [
    "import gym\n",
    "m_44 =[\n",
    "    \"SFFF\",\n",
    "    \"HHFH\",\n",
    "    \"FHFF\",\n",
    "    \"FFFG\",\n",
    "] \n",
    "\n",
    "env = gym.make(\"FrozenLake-v1\",desc=m_44,map_name=\"4x4\",is_slippery=False)\n",
    "\n",
    "# env1\n",
    "\n",
    "import gym\n",
    "m_44_1 =[\n",
    "    \"SFFF\",\n",
    "    \"FFFF\",\n",
    "    \"FFFF\",\n",
    "    \"FFFG\",\n",
    "] \n",
    "\n",
    "env1 = gym.make(\"FrozenLake-v1\",desc=m_44_1,map_name=\"4x4\",is_slippery=False)\n",
    "\n"
   ]
  },
  {
   "cell_type": "code",
   "execution_count": 2,
   "metadata": {},
   "outputs": [],
   "source": [
    "import gym\n",
    "\n",
    "#1\n",
    "\n",
    "m_66_1 =[\n",
    "    \"SFFFFF\",\n",
    "    \"FFFFFF\",\n",
    "    \"FFFFFF\",\n",
    "    \"FFFFFF\",\n",
    "    \"FFFFFF\",\n",
    "    \"FFFFFG\",\n",
    "] \n",
    "\n",
    "env1 = gym.make(\"FrozenLake-v1\",desc=m_66_1,map_name=\"6x6\",is_slippery=False)\n",
    "\n",
    "#2\n",
    "\n",
    "m_66_2 =[\n",
    "    \"SFFFFF\",\n",
    "    \"HHHHHF\",\n",
    "    \"FFFFFF\",\n",
    "    \"FHHHHH\",\n",
    "    \"FFFFFF\",\n",
    "    \"HHHHHG\",\n",
    "] \n",
    "\n",
    "env2 = gym.make(\"FrozenLake-v1\",desc=m_66_2,map_name=\"6x6\",is_slippery=False)\n",
    "\n",
    "#3\n",
    "\n",
    "m_66_3 =[\n",
    "    \"SFFFFF\",\n",
    "    \"FHFHFH\",\n",
    "    \"FFFFFF\",\n",
    "    \"FHFHFH\",\n",
    "    \"FFFFFF\",\n",
    "    \"FHFHFG\",\n",
    "] \n",
    "\n",
    "env3 = gym.make(\"FrozenLake-v1\",desc=m_66_3,map_name=\"6x6\",is_slippery=False)\n",
    "\n",
    "\n",
    "#4\n",
    "\n",
    "m_66_4 =[\n",
    "    \"SFFFFF\",\n",
    "    \"FHFHFH\",\n",
    "    \"FFFFFF\",\n",
    "    \"HHHHHF\",\n",
    "    \"FFFFFF\",\n",
    "    \"FHFHFG\",\n",
    "] \n",
    "\n",
    "env4 = gym.make(\"FrozenLake-v1\",desc=m_66_4,map_name=\"6x6\",is_slippery=False)\n",
    "\n",
    "#5 \n",
    "\n",
    "m_66_5 =[\n",
    "    \"SFFFFF\",\n",
    "    \"FHFHFH\",\n",
    "    \"FFFFFF\",\n",
    "    \"FHHHHF\",\n",
    "    \"FFFFFF\",\n",
    "    \"FHFHFG\",\n",
    "] \n",
    "\n",
    "env5 = gym.make(\"FrozenLake-v1\",desc=m_66_5,map_name=\"6x6\",is_slippery=False)\n",
    "\n",
    "#6\n",
    "\n",
    "m_66_6 =[\n",
    "    \"SFFFFF\",\n",
    "    \"HFFFFH\",\n",
    "    \"HFHHFH\",\n",
    "    \"HFHHFH\",\n",
    "    \"HFFFFF\",\n",
    "    \"HHHHHG\",\n",
    "] \n",
    "\n",
    "env6 = gym.make(\"FrozenLake-v1\",desc=m_66_6,map_name=\"6x6\",is_slippery=False)\n"
   ]
  },
  {
   "cell_type": "markdown",
   "metadata": {},
   "source": [
    "Making gym environment (8x8 environment):"
   ]
  },
  {
   "cell_type": "code",
   "execution_count": 41,
   "metadata": {},
   "outputs": [],
   "source": [
    "import gym\n",
    "m_88 =[\n",
    "    \"SFFFFFFF\",\n",
    "    \"FFFFFFFF\",\n",
    "    \"FFFFFFFF\",\n",
    "    \"FFFFFHFF\",\n",
    "    \"FFFHFFFF\",\n",
    "    \"FHHFFFHF\",\n",
    "    \"FHFFHFHF\",\n",
    "    \"FFFHFFFG\",\n",
    "] \n",
    "\n",
    "env = gym.make(\"FrozenLake-v1\",desc=m_88,map_name=\"8x8\",render_mode=\"human\",is_slippery=False)"
   ]
  },
  {
   "cell_type": "markdown",
   "metadata": {},
   "source": [
    "Making gym environment (16x16 environment):"
   ]
  },
  {
   "cell_type": "code",
   "execution_count": 27,
   "metadata": {},
   "outputs": [],
   "source": [
    "import gym\n",
    "m_88 =[\n",
    "    \"SFFFFFFFFF\",\n",
    "    \"FFFFFFFFFF\",\n",
    "    \"FFFFFFFFFF\",\n",
    "    \"FFFFFHFFFF\",\n",
    "    \"FFFHFFFFFF\",\n",
    "    \"FHHFFFHFFF\",\n",
    "    \"FHFFHFHFFF\",\n",
    "    \"FFFHFFFGFF\",\n",
    "] \n",
    "# in case you need rendering\n",
    "# env = gym.make(\"FrozenLake-v1\",desc=m_88,map_name=\"10x10\",render_mode=\"human\",is_slippery=False)\n",
    "# omitting the rendering part\n",
    "env = gym.make(\"FrozenLake-v1\",desc=m_88,map_name=\"10x10\",is_slippery=False)"
   ]
  },
  {
   "cell_type": "markdown",
   "metadata": {},
   "source": [
    "Rendering environment:"
   ]
  },
  {
   "cell_type": "code",
   "execution_count": 42,
   "metadata": {},
   "outputs": [],
   "source": [
    "env.reset()\n",
    "env.render()"
   ]
  },
  {
   "cell_type": "markdown",
   "metadata": {},
   "source": [
    "Close Environment:"
   ]
  },
  {
   "cell_type": "code",
   "execution_count": 19,
   "metadata": {},
   "outputs": [
    {
     "ename": "NameError",
     "evalue": "name 'env2' is not defined",
     "output_type": "error",
     "traceback": [
      "\u001b[1;31m---------------------------------------------------------------------------\u001b[0m",
      "\u001b[1;31mNameError\u001b[0m                                 Traceback (most recent call last)",
      "Cell \u001b[1;32mIn [19], line 3\u001b[0m\n\u001b[0;32m      1\u001b[0m env\u001b[39m.\u001b[39mclose()\n\u001b[0;32m      2\u001b[0m env1\u001b[39m.\u001b[39mclose()\n\u001b[1;32m----> 3\u001b[0m env2\u001b[39m.\u001b[39mclose()\n\u001b[0;32m      4\u001b[0m env3\u001b[39m.\u001b[39mclose()\n\u001b[0;32m      5\u001b[0m env4\u001b[39m.\u001b[39mclose()\n",
      "\u001b[1;31mNameError\u001b[0m: name 'env2' is not defined"
     ]
    }
   ],
   "source": [
    "env.close()\n",
    "env1.close()\n",
    "env2.close()\n",
    "env3.close()\n",
    "env4.close()\n",
    "env5.close()\n",
    "env6.close()\n"
   ]
  },
  {
   "cell_type": "code",
   "execution_count": 2,
   "metadata": {},
   "outputs": [
    {
     "name": "stdout",
     "output_type": "stream",
     "text": [
      "Action space:  Discrete(4)\n",
      "Observation space:  Discrete(64)\n"
     ]
    }
   ],
   "source": [
    "# frozen-lake-ex1.py\n",
    "print(\"Action space: \", env.action_space)\n",
    "print(\"Observation space: \", env.observation_space)"
   ]
  },
  {
   "cell_type": "markdown",
   "metadata": {},
   "source": [
    "Gym environment output check:"
   ]
  },
  {
   "cell_type": "code",
   "execution_count": 2,
   "metadata": {},
   "outputs": [
    {
     "name": "stdout",
     "output_type": "stream",
     "text": [
      "1 0.0 False False {'prob': 1.0}\n",
      "1 0.0 False False {'prob': 1.0}\n",
      "0 0.0 False False {'prob': 1.0}\n",
      "4 0.0 False False {'prob': 1.0}\n",
      "4 0.0 False False {'prob': 1.0}\n",
      "0 0.0 False False {'prob': 1.0}\n",
      "0 0.0 False False {'prob': 1.0}\n",
      "1 0.0 False False {'prob': 1.0}\n",
      "5 0.0 True False {'prob': 1.0}\n"
     ]
    }
   ],
   "source": [
    "MAX_ITERATIONS = 10\n",
    "env.reset()\n",
    "#env.render()\n",
    "for i in range(MAX_ITERATIONS):\n",
    "    random_action = env.action_space.sample()\n",
    "    new_state, reward, done, info, dep= env.step(random_action)\n",
    "    print(new_state, reward, done, info, dep)\n",
    "    #env.render()\n",
    "    if done:\n",
    "        break"
   ]
  },
  {
   "cell_type": "markdown",
   "metadata": {},
   "source": [
    "Setting action space env size:"
   ]
  },
  {
   "cell_type": "code",
   "execution_count": 3,
   "metadata": {},
   "outputs": [],
   "source": [
    "env.action_space\n",
    "env.nS = env.observation_space.n\n",
    "env.nA = env.action_space.n "
   ]
  },
  {
   "cell_type": "code",
   "execution_count": 30,
   "metadata": {},
   "outputs": [
    {
     "data": {
      "text/plain": [
       "{0: [(1.0, 0, 0.0, False)],\n",
       " 1: [(1.0, 10, 0.0, False)],\n",
       " 2: [(1.0, 1, 0.0, False)],\n",
       " 3: [(1.0, 0, 0.0, False)]}"
      ]
     },
     "execution_count": 30,
     "metadata": {},
     "output_type": "execute_result"
    }
   ],
   "source": [
    "env.P[0]"
   ]
  },
  {
   "cell_type": "markdown",
   "metadata": {},
   "source": [
    "Value iteration "
   ]
  },
  {
   "cell_type": "code",
   "execution_count": 2,
   "metadata": {},
   "outputs": [],
   "source": [
    "import numpy as np\n",
    "\n",
    "def value_iteration(env, max_iterations=100000, lmbda=0.9):\n",
    "  env.nS = env.observation_space.n\n",
    "  env.nA = env.action_space.n \n",
    "  stateValue = [0 for i in range(env.nS)]\n",
    "  newStateValue = stateValue.copy()\n",
    "  for i in range(max_iterations):\n",
    "    for state in range(env.nS):\n",
    "      action_values = []      \n",
    "      for action in range(env.nA):\n",
    "        state_value = 0\n",
    "        for i in range(len(env.P[state][action])):\n",
    "          new_var = env.P[state][action][i]\n",
    "          prob, next_state, reward, done = new_var\n",
    "          state_action_value = prob * (reward + lmbda*stateValue[next_state])\n",
    "          state_value += state_action_value\n",
    "        action_values.append(state_value)      #the value of each action\n",
    "        best_action = np.argmax(np.asarray(action_values))   # choose the action which gives the maximum value\n",
    "        newStateValue[state] = action_values[best_action]  #update the value of the state\n",
    "    if i > 1000: \n",
    "      if sum(stateValue) - sum(newStateValue) < 1e-04:   # if there is negligible difference break the loop\n",
    "        break\n",
    "        print(i)\n",
    "    else:\n",
    "      stateValue = newStateValue.copy()\n",
    "  print(i)\n",
    "  return stateValue "
   ]
  },
  {
   "cell_type": "code",
   "execution_count": 3,
   "metadata": {},
   "outputs": [
    {
     "name": "stdout",
     "output_type": "stream",
     "text": [
      "0\n"
     ]
    }
   ],
   "source": [
    "env.reset()\n",
    "statevalue = value_iteration(env)"
   ]
  },
  {
   "cell_type": "code",
   "execution_count": 4,
   "metadata": {},
   "outputs": [
    {
     "data": {
      "text/plain": [
       "[0.0,\n",
       " 0.0,\n",
       " 0.0,\n",
       " 0.0,\n",
       " 0.0,\n",
       " 0.0,\n",
       " 0.0,\n",
       " 0.0,\n",
       " 0.7290000000000001,\n",
       " 0.0,\n",
       " 0.0,\n",
       " 1.0,\n",
       " 0.81,\n",
       " 0.9,\n",
       " 1.0,\n",
       " 0.0]"
      ]
     },
     "execution_count": 4,
     "metadata": {},
     "output_type": "execute_result"
    }
   ],
   "source": [
    "\n",
    "#env.action_space.n\n",
    "statevalue\n"
   ]
  },
  {
   "cell_type": "markdown",
   "metadata": {},
   "source": [
    "Getting policy for Value iteration algorithm:"
   ]
  },
  {
   "cell_type": "code",
   "execution_count": 6,
   "metadata": {},
   "outputs": [],
   "source": [
    "def get_policy(env,stateValue, lmbda=0.9):\n",
    "  policy = [0 for i in range(env.nS)]\n",
    "  for state in range(env.nS):\n",
    "    action_values = []\n",
    "    for action in range(env.nA):\n",
    "      action_value = 0\n",
    "      for i in range(len(env.P[state][action])):\n",
    "        prob, next_state, r, _ = env.P[state][action][i]\n",
    "        action_value += prob * (r + lmbda * stateValue[next_state])\n",
    "      action_values.append(action_value)\n",
    "    best_action = np.argmax(np.asarray(action_values))\n",
    "    policy[state] = best_action\n",
    "  return policy "
   ]
  },
  {
   "cell_type": "code",
   "execution_count": 8,
   "metadata": {},
   "outputs": [
    {
     "data": {
      "text/plain": [
       "[0, 0, 0, 0, 0, 0, 0, 0, 1, 0, 0, 1, 2, 2, 2, 0]"
      ]
     },
     "execution_count": 8,
     "metadata": {},
     "output_type": "execute_result"
    }
   ],
   "source": [
    "policy = get_policy(env, statevalue)\n",
    "policy"
   ]
  },
  {
   "cell_type": "code",
   "execution_count": 9,
   "metadata": {},
   "outputs": [
    {
     "data": {
      "text/plain": [
       "[0.0,\n",
       " 0.0,\n",
       " 0.0,\n",
       " 0.0,\n",
       " 0.0,\n",
       " 0.0,\n",
       " 0.0,\n",
       " 0.0,\n",
       " 0.7290000000000001,\n",
       " 0.0,\n",
       " 0.0,\n",
       " 1.0,\n",
       " 0.81,\n",
       " 0.9,\n",
       " 1.0,\n",
       " 0.0]"
      ]
     },
     "execution_count": 9,
     "metadata": {},
     "output_type": "execute_result"
    }
   ],
   "source": [
    "policy\n",
    "#policy[1]\n",
    "#x_1,x_2,x_3,x_4,x_5 =env.step(1)\n",
    "#print(x_1,x_2,x_3,x_4,x_5)\n",
    "#policy\n",
    "#observation = env.reset\n",
    "#policy[:]\n",
    "statevalue"
   ]
  },
  {
   "cell_type": "markdown",
   "metadata": {},
   "source": [
    "Calculating score:"
   ]
  },
  {
   "cell_type": "code",
   "execution_count": 11,
   "metadata": {},
   "outputs": [],
   "source": [
    "def get_score(env, policy, episodes=10):\n",
    "  misses = 0\n",
    "  steps_list = []\n",
    "  for episode in range(episodes):\n",
    "    observations = env.reset()\n",
    "    observation = observations[0]\n",
    "    steps=0\n",
    "    while True:\n",
    "      \n",
    "      action = policy[observation]\n",
    "      observation, reward, done, trunc, info = env.step(action)\n",
    "      steps+=1\n",
    "      if done and reward == 1:\n",
    "        # print('You have got the fucking Frisbee after {} steps'.format(steps))\n",
    "        steps_list.append(steps)\n",
    "        break\n",
    "      elif done and reward == 0:\n",
    "        # print(\"You fell in a hole!\")\n",
    "        misses += 1\n",
    "        break\n",
    "  print('----------------------------------------------')\n",
    "  print('You took an average of {:.0f} steps to get the frisbee'.format(np.mean(steps_list)))\n",
    "  print('And you fell in the hole {:.2f} % of the times'.format((misses/episodes) * 100))\n",
    "  print('----------------------------------------------')"
   ]
  },
  {
   "cell_type": "code",
   "execution_count": 12,
   "metadata": {},
   "outputs": [
    {
     "ename": "KeyboardInterrupt",
     "evalue": "",
     "output_type": "error",
     "traceback": [
      "\u001b[1;31m---------------------------------------------------------------------------\u001b[0m",
      "\u001b[1;31mKeyboardInterrupt\u001b[0m                         Traceback (most recent call last)",
      "Cell \u001b[1;32mIn [12], line 1\u001b[0m\n\u001b[1;32m----> 1\u001b[0m get_score(env, policy)\n",
      "Cell \u001b[1;32mIn [11], line 11\u001b[0m, in \u001b[0;36mget_score\u001b[1;34m(env, policy, episodes)\u001b[0m\n\u001b[0;32m      8\u001b[0m \u001b[39mwhile\u001b[39;00m \u001b[39mTrue\u001b[39;00m:\n\u001b[0;32m     10\u001b[0m   action \u001b[39m=\u001b[39m policy[observation]\n\u001b[1;32m---> 11\u001b[0m   observation, reward, done, trunc, info \u001b[39m=\u001b[39m env\u001b[39m.\u001b[39;49mstep(action)\n\u001b[0;32m     12\u001b[0m   steps\u001b[39m+\u001b[39m\u001b[39m=\u001b[39m\u001b[39m1\u001b[39m\n\u001b[0;32m     13\u001b[0m   \u001b[39mif\u001b[39;00m done \u001b[39mand\u001b[39;00m reward \u001b[39m==\u001b[39m \u001b[39m1\u001b[39m:\n\u001b[0;32m     14\u001b[0m     \u001b[39m# print('You have got the fucking Frisbee after {} steps'.format(steps))\u001b[39;00m\n",
      "File \u001b[1;32mc:\\Users\\amirh\\AppData\\Local\\Programs\\Python\\Python39\\lib\\site-packages\\gym\\wrappers\\time_limit.py:50\u001b[0m, in \u001b[0;36mTimeLimit.step\u001b[1;34m(self, action)\u001b[0m\n\u001b[0;32m     39\u001b[0m \u001b[39mdef\u001b[39;00m \u001b[39mstep\u001b[39m(\u001b[39mself\u001b[39m, action):\n\u001b[0;32m     40\u001b[0m     \u001b[39m\"\"\"Steps through the environment and if the number of steps elapsed exceeds ``max_episode_steps`` then truncate.\u001b[39;00m\n\u001b[0;32m     41\u001b[0m \n\u001b[0;32m     42\u001b[0m \u001b[39m    Args:\u001b[39;00m\n\u001b[1;32m   (...)\u001b[0m\n\u001b[0;32m     48\u001b[0m \n\u001b[0;32m     49\u001b[0m \u001b[39m    \"\"\"\u001b[39;00m\n\u001b[1;32m---> 50\u001b[0m     observation, reward, terminated, truncated, info \u001b[39m=\u001b[39m \u001b[39mself\u001b[39;49m\u001b[39m.\u001b[39;49menv\u001b[39m.\u001b[39;49mstep(action)\n\u001b[0;32m     51\u001b[0m     \u001b[39mself\u001b[39m\u001b[39m.\u001b[39m_elapsed_steps \u001b[39m+\u001b[39m\u001b[39m=\u001b[39m \u001b[39m1\u001b[39m\n\u001b[0;32m     53\u001b[0m     \u001b[39mif\u001b[39;00m \u001b[39mself\u001b[39m\u001b[39m.\u001b[39m_elapsed_steps \u001b[39m>\u001b[39m\u001b[39m=\u001b[39m \u001b[39mself\u001b[39m\u001b[39m.\u001b[39m_max_episode_steps:\n",
      "File \u001b[1;32mc:\\Users\\amirh\\AppData\\Local\\Programs\\Python\\Python39\\lib\\site-packages\\gym\\wrappers\\order_enforcing.py:37\u001b[0m, in \u001b[0;36mOrderEnforcing.step\u001b[1;34m(self, action)\u001b[0m\n\u001b[0;32m     35\u001b[0m \u001b[39mif\u001b[39;00m \u001b[39mnot\u001b[39;00m \u001b[39mself\u001b[39m\u001b[39m.\u001b[39m_has_reset:\n\u001b[0;32m     36\u001b[0m     \u001b[39mraise\u001b[39;00m ResetNeeded(\u001b[39m\"\u001b[39m\u001b[39mCannot call env.step() before calling env.reset()\u001b[39m\u001b[39m\"\u001b[39m)\n\u001b[1;32m---> 37\u001b[0m \u001b[39mreturn\u001b[39;00m \u001b[39mself\u001b[39;49m\u001b[39m.\u001b[39;49menv\u001b[39m.\u001b[39;49mstep(action)\n",
      "File \u001b[1;32mc:\\Users\\amirh\\AppData\\Local\\Programs\\Python\\Python39\\lib\\site-packages\\gym\\wrappers\\env_checker.py:39\u001b[0m, in \u001b[0;36mPassiveEnvChecker.step\u001b[1;34m(self, action)\u001b[0m\n\u001b[0;32m     37\u001b[0m     \u001b[39mreturn\u001b[39;00m env_step_passive_checker(\u001b[39mself\u001b[39m\u001b[39m.\u001b[39menv, action)\n\u001b[0;32m     38\u001b[0m \u001b[39melse\u001b[39;00m:\n\u001b[1;32m---> 39\u001b[0m     \u001b[39mreturn\u001b[39;00m \u001b[39mself\u001b[39;49m\u001b[39m.\u001b[39;49menv\u001b[39m.\u001b[39;49mstep(action)\n",
      "File \u001b[1;32mc:\\Users\\amirh\\AppData\\Local\\Programs\\Python\\Python39\\lib\\site-packages\\gym\\envs\\toy_text\\frozen_lake.py:252\u001b[0m, in \u001b[0;36mFrozenLakeEnv.step\u001b[1;34m(self, a)\u001b[0m\n\u001b[0;32m    249\u001b[0m \u001b[39mself\u001b[39m\u001b[39m.\u001b[39mlastaction \u001b[39m=\u001b[39m a\n\u001b[0;32m    251\u001b[0m \u001b[39mif\u001b[39;00m \u001b[39mself\u001b[39m\u001b[39m.\u001b[39mrender_mode \u001b[39m==\u001b[39m \u001b[39m\"\u001b[39m\u001b[39mhuman\u001b[39m\u001b[39m\"\u001b[39m:\n\u001b[1;32m--> 252\u001b[0m     \u001b[39mself\u001b[39;49m\u001b[39m.\u001b[39;49mrender()\n\u001b[0;32m    253\u001b[0m \u001b[39mreturn\u001b[39;00m (\u001b[39mint\u001b[39m(s), r, t, \u001b[39mFalse\u001b[39;00m, {\u001b[39m\"\u001b[39m\u001b[39mprob\u001b[39m\u001b[39m\"\u001b[39m: p})\n",
      "File \u001b[1;32mc:\\Users\\amirh\\AppData\\Local\\Programs\\Python\\Python39\\lib\\site-packages\\gym\\envs\\toy_text\\frozen_lake.py:279\u001b[0m, in \u001b[0;36mFrozenLakeEnv.render\u001b[1;34m(self)\u001b[0m\n\u001b[0;32m    277\u001b[0m     \u001b[39mreturn\u001b[39;00m \u001b[39mself\u001b[39m\u001b[39m.\u001b[39m_render_text()\n\u001b[0;32m    278\u001b[0m \u001b[39melse\u001b[39;00m:  \u001b[39m# self.render_mode in {\"human\", \"rgb_array\"}:\u001b[39;00m\n\u001b[1;32m--> 279\u001b[0m     \u001b[39mreturn\u001b[39;00m \u001b[39mself\u001b[39;49m\u001b[39m.\u001b[39;49m_render_gui(\u001b[39mself\u001b[39;49m\u001b[39m.\u001b[39;49mrender_mode)\n",
      "File \u001b[1;32mc:\\Users\\amirh\\AppData\\Local\\Programs\\Python\\Python39\\lib\\site-packages\\gym\\envs\\toy_text\\frozen_lake.py:373\u001b[0m, in \u001b[0;36mFrozenLakeEnv._render_gui\u001b[1;34m(self, mode)\u001b[0m\n\u001b[0;32m    371\u001b[0m     pygame\u001b[39m.\u001b[39mevent\u001b[39m.\u001b[39mpump()\n\u001b[0;32m    372\u001b[0m     pygame\u001b[39m.\u001b[39mdisplay\u001b[39m.\u001b[39mupdate()\n\u001b[1;32m--> 373\u001b[0m     \u001b[39mself\u001b[39;49m\u001b[39m.\u001b[39;49mclock\u001b[39m.\u001b[39;49mtick(\u001b[39mself\u001b[39;49m\u001b[39m.\u001b[39;49mmetadata[\u001b[39m\"\u001b[39;49m\u001b[39mrender_fps\u001b[39;49m\u001b[39m\"\u001b[39;49m])\n\u001b[0;32m    374\u001b[0m \u001b[39melif\u001b[39;00m mode \u001b[39m==\u001b[39m \u001b[39m\"\u001b[39m\u001b[39mrgb_array\u001b[39m\u001b[39m\"\u001b[39m:\n\u001b[0;32m    375\u001b[0m     \u001b[39mreturn\u001b[39;00m np\u001b[39m.\u001b[39mtranspose(\n\u001b[0;32m    376\u001b[0m         np\u001b[39m.\u001b[39marray(pygame\u001b[39m.\u001b[39msurfarray\u001b[39m.\u001b[39mpixels3d(\u001b[39mself\u001b[39m\u001b[39m.\u001b[39mwindow_surface)), axes\u001b[39m=\u001b[39m(\u001b[39m1\u001b[39m, \u001b[39m0\u001b[39m, \u001b[39m2\u001b[39m)\n\u001b[0;32m    377\u001b[0m     )\n",
      "\u001b[1;31mKeyboardInterrupt\u001b[0m: "
     ]
    }
   ],
   "source": [
    "get_score(env, policy)"
   ]
  },
  {
   "cell_type": "code",
   "execution_count": 3,
   "metadata": {},
   "outputs": [],
   "source": [
    "import numpy as np\n",
    "import gym\n",
    "import random\n",
    "def qlearning(env,total_episodes):\n",
    "    action_size = env.action_space.n\n",
    "    state_size = env.observation_space.n\n",
    "    qtable = np.zeros((state_size, action_size))\n",
    "    #total_episodes = 100000        # Total episodes\n",
    "    learning_rate = 0.9           # Learning rate\n",
    "    max_steps = 99                # Max steps per episode\n",
    "    gamma = 0.95                  # Discounting rate\n",
    "\n",
    "    # Exploration parameters\n",
    "    epsilon = 1                # Exploration rate\n",
    "    max_epsilon = 1.0             # Exploration probability at start\n",
    "    min_epsilon = 0.01            # Minimum exploration probability \n",
    "    decay_rate = 1/total_episodes             # Exponential decay rate for exploration prob\n",
    "    # List of rewards\n",
    "    rewards = []\n",
    "    # 2 For life or until learning is stopped\n",
    "    for episode in range(total_episodes):\n",
    "        # Reset the environment\n",
    "        state_reset = env.reset()\n",
    "        state = state_reset[0]\n",
    "        #print(state)\n",
    "        step = 0\n",
    "        done = False\n",
    "        total_rewards = 0\n",
    "        \n",
    "        for step in range(max_steps):\n",
    "            # 3. Choose an action a in the current world state (s)\n",
    "            ## First we randomize a number\n",
    "            exp_exp_tradeoff = random.uniform(0, 1)\n",
    "            #print(exp_exp_tradeoff)\n",
    "            ## If this number > greater than epsilon --> exploitation (taking the biggest Q value for this state)\n",
    "            if exp_exp_tradeoff > epsilon:\n",
    "                action = np.argmax(qtable[state,:])\n",
    "\n",
    "            # Else doing a random choice --> exploration\n",
    "            else:\n",
    "                action = env.action_space.sample()\n",
    "                #print(action)\n",
    "\n",
    "            # Take the action (a) and observe the outcome state(s') and reward (r)\n",
    "            new_state, reward, done, trunc, info = env.step(action)\n",
    "\n",
    "            # Update Q(s,a):= Q(s,a) + lr [R(s,a) + gamma * max Q(s',a') - Q(s,a)]\n",
    "            # qtable[new_state,:] : all the actions we can take from new state\n",
    "            #print(state,action,reward)\n",
    "            qtable[state, action] = qtable[state, action] + learning_rate * (reward + gamma * np.max(qtable[new_state, :]) - qtable[state, action])\n",
    "            \n",
    "            total_rewards += reward\n",
    "            \n",
    "            # Our new state is state\n",
    "            state = new_state\n",
    "            \n",
    "            # If done (if we're dead) : finish episode\n",
    "            if done == True: \n",
    "                break\n",
    "            \n",
    "        episode += 1\n",
    "        # Reduce epsilon (because we need less and less exploration)\n",
    "        \n",
    "        #epsilon = epsilon*decay\n",
    "        #epsilon = epsilon*0.999999\n",
    "        epsilon = min_epsilon + (max_epsilon - min_epsilon)*np.exp(-decay_rate*episode) \n",
    "        rewards.append(total_rewards)\n",
    "\n",
    "    #print (\"Score over time: \" +  str(sum(rewards)/total_episodes))\n",
    "    #print(episode)\n",
    "    return(qtable)"
   ]
  },
  {
   "cell_type": "code",
   "execution_count": 55,
   "metadata": {},
   "outputs": [
    {
     "data": {
      "image/png": "[encoded data removed]",
      "text/plain": [
       "<Figure size 640x480 with 1 Axes>"
      ]
     },
     "metadata": {},
     "output_type": "display_data"
    }
   ],
   "source": [
    "import matplotlib.pyplot as plt\n",
    "import matplotlib as mpl\n",
    "import numpy as np\n",
    "\n",
    "\n",
    "# Exploration parameters\n",
    "epsilon = 1                # Exploration rate\n",
    "max_epsilon = 1.0             # Exploration probability at start\n",
    "min_epsilon = 0.01            # Minimum exploration probability \n",
    "           # Exponential decay rate for exploration pro\n",
    "ep = 0\n",
    "data_collection_rate = 100\n",
    "d = 1\n",
    "epfun1 = epsilon\n",
    "epfun2 = epsilon\n",
    "epfun1list = []\n",
    "epfun2list = []\n",
    "total_ep = 10000\n",
    "decay_rate = 1/total_ep\n",
    "while ep<total_ep:\n",
    "    ep = ep + 1\n",
    "    epfun1 = epfun1*0.9999\n",
    "    epfun2 = epfun2 = min_epsilon + (max_epsilon - min_epsilon)*np.exp(-decay_rate*ep)\n",
    "    if ep == ((total_ep)/(data_collection_rate))*d:\n",
    "        epfun1list.append(epfun1)\n",
    "        epfun2list.append(epfun2)\n",
    "        d = d + 1\n",
    "#print(epfun1list)\n",
    "epfun1array = np.array(epfun1list)\n",
    "epfun2array = np.array(epfun2list)\n",
    "ep_array = np.array(list(range(0,data_collection_rate)))\n",
    "#print(epfun1array)\n",
    "#print(ep_array)\n",
    "\n",
    "plt.scatter(ep_array,epfun1array,c='y',edgecolor =\"blue\",linewidths=0.1,marker='D',s=4,alpha=0.5)\n",
    "plt.scatter(ep_array,epfun2array,c='b',edgecolor =\"red\",linewidths=0.1,marker='p',s=4, alpha=0.5)\n",
    "\n",
    "plt.title('Epsilon greedy decay rate')\n",
    "plt.xlabel('Elapsed episode pecentage')\n",
    "plt.ylabel('Epsilon Value')\n",
    "\n",
    "plt.show()"
   ]
  },
  {
   "cell_type": "code",
   "execution_count": 19,
   "metadata": {},
   "outputs": [
    {
     "name": "stdout",
     "output_type": "stream",
     "text": [
      "[[0.59873694 0.         0.63024941 0.59873694]\n",
      " [0.59873694 0.66342043 0.66342043 0.63024941]\n",
      " [0.63024941 0.6983373  0.6983373  0.66342043]\n",
      " [0.66342043 0.73509189 0.73509189 0.6983373 ]\n",
      " [0.6983373  0.77378094 0.6983373  0.73509189]\n",
      " [0.73509189 0.         0.6983373  0.6983373 ]\n",
      " [0.         0.         0.         0.        ]\n",
      " [0.         0.6983373  0.6983373  0.63024941]\n",
      " [0.66342043 0.         0.73509189 0.66342043]\n",
      " [0.6983373  0.         0.77378094 0.6983373 ]\n",
      " [0.73509189 0.81450625 0.         0.73509189]\n",
      " [0.         0.         0.         0.        ]\n",
      " [0.         0.         0.         0.        ]\n",
      " [0.         0.73509189 0.         0.66342043]\n",
      " [0.         0.         0.         0.        ]\n",
      " [0.         0.         0.         0.        ]\n",
      " [0.         0.857375   0.         0.77378094]\n",
      " [0.         0.         0.         0.        ]\n",
      " [0.         0.         0.         0.        ]\n",
      " [0.         0.77378094 0.         0.6983373 ]\n",
      " [0.         0.         0.         0.        ]\n",
      " [0.         0.         0.         0.        ]\n",
      " [0.         0.9025     0.         0.81450625]\n",
      " [0.         0.         0.         0.        ]\n",
      " [0.         0.         0.         0.        ]\n",
      " [0.         0.         0.81450625 0.73509189]\n",
      " [0.77378094 0.         0.857375   0.        ]\n",
      " [0.81450625 0.         0.9025     0.        ]\n",
      " [0.857375   0.         0.95       0.857375  ]\n",
      " [0.9025     1.         0.95       0.        ]\n",
      " [0.         0.         0.         0.        ]\n",
      " [0.         0.         0.         0.        ]\n",
      " [0.         0.         0.         0.        ]\n",
      " [0.         0.         0.         0.        ]\n",
      " [0.         0.         0.         0.        ]\n",
      " [0.         0.         0.         0.        ]]\n"
     ]
    }
   ],
   "source": [
    "qtable = qlearning (env6,50000)\n",
    "print(qtable)"
   ]
  },
  {
   "cell_type": "code",
   "execution_count": 43,
   "metadata": {},
   "outputs": [
    {
     "name": "stdout",
     "output_type": "stream",
     "text": [
      "Score over time: 0.01325\n",
      "100000\n",
      "***The mesh is ok***\n",
      "*** so meshing parameter is 1 ***\n"
     ]
    }
   ],
   "source": [
    "qtable = qlearning(env)\n",
    "meshing = 1\n",
    "if np.argmax(qtable) == 0:\n",
    "    meshing = 0\n",
    "    print('***The mesh must be more dense***')\n",
    "else:\n",
    "    print('***The mesh is ok***')\n",
    "print('*** so meshing parameter is',meshing,'***')"
   ]
  },
  {
   "cell_type": "code",
   "execution_count": 11,
   "metadata": {},
   "outputs": [
    {
     "name": "stdout",
     "output_type": "stream",
     "text": [
      "The mesh must be larger\n",
      "1\n"
     ]
    }
   ],
   "source": [
    "meshing = 0\n",
    "if np.argmax(qtable) == 0:\n",
    "    meshing = 1\n",
    "    print('The mesh must be larger')\n",
    "print(meshing) "
   ]
  },
  {
   "cell_type": "markdown",
   "metadata": {},
   "source": [
    "Q-learning implementation and rendering:"
   ]
  },
  {
   "cell_type": "code",
   "execution_count": 6,
   "metadata": {},
   "outputs": [],
   "source": [
    "def Q_moving_check(env,qtable, number_of_episodes):\n",
    "\n",
    "    env.reset()\n",
    "    max_steps = 16\n",
    "    for episode in range(number_of_episodes):\n",
    "        state = env.reset()\n",
    "        state = state[0]\n",
    "        step = 0\n",
    "        done = False\n",
    "        #print(\"****************************************************\")\n",
    "        #print(\"EPISODE \", episode)\n",
    "        #print(state)\n",
    "        for step in range(max_steps):\n",
    "            # env.render()\n",
    "            # Take the action (index) that have the maximum expected future reward given that state\n",
    "            action = np.argmax(qtable[state,:])\n",
    "            #print(action)\n",
    "            new_state, reward, done, trunc, info = env.step(action)\n",
    "            if done:\n",
    "                if reward == 1:\n",
    "                    return(reward)\n",
    "                else:\n",
    "                    reward = 0\n",
    "                    return(reward)\n",
    "                #print('epis length',step)\n",
    "                #print('reward',reward)\n",
    "                break\n",
    "            if step == max_steps:\n",
    "                reward = 0\n",
    "                return(reward) \n",
    "\n",
    "            state = new_state"
   ]
  },
  {
   "cell_type": "code",
   "execution_count": 7,
   "metadata": {},
   "outputs": [
    {
     "data": {
      "text/plain": [
       "1.0"
      ]
     },
     "execution_count": 7,
     "metadata": {},
     "output_type": "execute_result"
    }
   ],
   "source": [
    "Q_moving_check(env6,qtable,1)"
   ]
  },
  {
   "cell_type": "code",
   "execution_count": 24,
   "metadata": {},
   "outputs": [],
   "source": [
    "import numpy as np\n",
    "def q_performance(env,max_ep,data_collect,points_distance_accordingtodatacollect):\n",
    "    ep = 0\n",
    "    #success_list = np.array(list(range(0,data_collect)))\n",
    "    success_list = np.array([])\n",
    "    while ep<max_ep:\n",
    "        rewards = 0 # total rewards per data collection section\n",
    "        success_rate = 0 # success rate in each data sampling session \n",
    "        ep_it = int(data_collect/points_distance_accordingtodatacollect) # number of test points in each data collection session\n",
    "        for s in range(ep_it): \n",
    "            ep = ep + points_distance_accordingtodatacollect # iteration through max episodes\n",
    "            qtable = qlearning (env,ep)\n",
    "            reward = Q_moving_check(env,qtable,1) or 0\n",
    "            rewards +=  reward\n",
    "        success_rate = rewards/ep_it\n",
    "        success_list = np.append(success_list, success_rate) # you have to make a list which each element is average eward per data collect\n",
    "        #return success_list\n",
    "    return success_list\n",
    "\n",
    "\n",
    "            \n"
   ]
  },
  {
   "attachments": {},
   "cell_type": "markdown",
   "metadata": {},
   "source": [
    "Performance test for one 4x4 map"
   ]
  },
  {
   "cell_type": "code",
   "execution_count": 25,
   "metadata": {},
   "outputs": [],
   "source": [
    "import matplotlib.pyplot as plt\n",
    "import matplotlib as mpl\n",
    "\n",
    "\n",
    "data_collect = 500 # data collection rate\n",
    "max_ep = 5000 # max episode for performance check\n",
    "points_distance_accordingtodatacollect = 10 # how many points calculated in data collect session to reduce calculation costs \n",
    "# final average is based on this number\n",
    "\n",
    "\n",
    "## performance check based on elapsed episodes (training)\n",
    "\n",
    "success_list = q_performance(env5,max_ep,data_collect,points_distance_accordingtodatacollect)\n",
    "success_list_1 = q_performance(env6,max_ep,data_collect,points_distance_accordingtodatacollect)\n",
    "\n",
    "## ploting the data\n",
    "\n",
    "data_points = max_ep/data_collect\n",
    "data_points_array = np.array(list(range(0,int(data_points))))\n",
    "\n",
    "print(data_points_array,success_list)\n",
    "\n",
    "fig, ax = plt.subplots()\n",
    "\n",
    "plt.scatter(data_points_array,success_list,c='b',edgecolor =\"red\",linewidths=0.5,marker='p',s=10, alpha=0.7,label='Env1')\n",
    "plt.scatter(data_points_array,success_list_1,c='r',edgecolor =\"red\",linewidths=0.5,marker='p',s=10, alpha=0.7,label='Env2')\n",
    "\n",
    "plt.title('Performance check for')\n",
    "plt.xlabel('Elapsed episode pecentage')\n",
    "plt.ylabel('Performance per data collect rate')\n",
    "\n",
    "leg = ax.legend(scatterpoints=1, frameon=True, labelspacing=1, title='Different maps')\n",
    "plt.show()\n"
   ]
  },
  {
   "attachments": {},
   "cell_type": "markdown",
   "metadata": {},
   "source": [
    "Performance test for 6 maps 6x6 map with close comparison"
   ]
  },
  {
   "cell_type": "code",
   "execution_count": 23,
   "metadata": {},
   "outputs": [
    {
     "name": "stdout",
     "output_type": "stream",
     "text": [
      "Env1 done\n"
     ]
    },
    {
     "ename": "KeyboardInterrupt",
     "evalue": "",
     "output_type": "error",
     "traceback": [
      "\u001b[1;31m---------------------------------------------------------------------------\u001b[0m",
      "\u001b[1;31mKeyboardInterrupt\u001b[0m                         Traceback (most recent call last)",
      "Cell \u001b[1;32mIn [23], line 11\u001b[0m\n\u001b[0;32m      9\u001b[0m success_list_1 \u001b[39m=\u001b[39m q_performance(env1,max_ep,data_collect)\n\u001b[0;32m     10\u001b[0m \u001b[39mprint\u001b[39m(\u001b[39m'\u001b[39m\u001b[39mEnv1 done\u001b[39m\u001b[39m'\u001b[39m)\n\u001b[1;32m---> 11\u001b[0m success_list_2 \u001b[39m=\u001b[39m q_performance(env2,max_ep,data_collect)\n\u001b[0;32m     12\u001b[0m \u001b[39mprint\u001b[39m(\u001b[39m'\u001b[39m\u001b[39mEnv2 done\u001b[39m\u001b[39m'\u001b[39m)\n\u001b[0;32m     13\u001b[0m success_list_3 \u001b[39m=\u001b[39m q_performance(env3,max_ep,data_collect)\n",
      "Cell \u001b[1;32mIn [12], line 11\u001b[0m, in \u001b[0;36mq_performance\u001b[1;34m(env, max_ep, data_collect)\u001b[0m\n\u001b[0;32m      9\u001b[0m \u001b[39mfor\u001b[39;00m s \u001b[39min\u001b[39;00m \u001b[39mrange\u001b[39m(data_collect): \n\u001b[0;32m     10\u001b[0m     ep \u001b[39m=\u001b[39m ep \u001b[39m+\u001b[39m \u001b[39m1\u001b[39m \u001b[39m# iteration through max episodes\u001b[39;00m\n\u001b[1;32m---> 11\u001b[0m     qtable \u001b[39m=\u001b[39m qlearning (env,ep)\n\u001b[0;32m     12\u001b[0m     reward \u001b[39m=\u001b[39m Q_moving_check(env,qtable,\u001b[39m1\u001b[39m) \u001b[39mor\u001b[39;00m \u001b[39m0\u001b[39m\n\u001b[0;32m     13\u001b[0m     rewards \u001b[39m+\u001b[39m\u001b[39m=\u001b[39m  reward\n",
      "Cell \u001b[1;32mIn [2], line 37\u001b[0m, in \u001b[0;36mqlearning\u001b[1;34m(env, total_episodes)\u001b[0m\n\u001b[0;32m     34\u001b[0m \u001b[39m#print(exp_exp_tradeoff)\u001b[39;00m\n\u001b[0;32m     35\u001b[0m \u001b[39m## If this number > greater than epsilon --> exploitation (taking the biggest Q value for this state)\u001b[39;00m\n\u001b[0;32m     36\u001b[0m \u001b[39mif\u001b[39;00m exp_exp_tradeoff \u001b[39m>\u001b[39m epsilon:\n\u001b[1;32m---> 37\u001b[0m     action \u001b[39m=\u001b[39m np\u001b[39m.\u001b[39;49margmax(qtable[state,:])\n\u001b[0;32m     39\u001b[0m \u001b[39m# Else doing a random choice --> exploration\u001b[39;00m\n\u001b[0;32m     40\u001b[0m \u001b[39melse\u001b[39;00m:\n\u001b[0;32m     41\u001b[0m     action \u001b[39m=\u001b[39m env\u001b[39m.\u001b[39maction_space\u001b[39m.\u001b[39msample()\n",
      "File \u001b[1;32m<__array_function__ internals>:180\u001b[0m, in \u001b[0;36margmax\u001b[1;34m(*args, **kwargs)\u001b[0m\n",
      "File \u001b[1;32mc:\\Users\\amirh\\AppData\\Local\\Programs\\Python\\Python39\\lib\\site-packages\\numpy\\core\\fromnumeric.py:1216\u001b[0m, in \u001b[0;36margmax\u001b[1;34m(a, axis, out, keepdims)\u001b[0m\n\u001b[0;32m   1129\u001b[0m \u001b[39m\"\"\"\u001b[39;00m\n\u001b[0;32m   1130\u001b[0m \u001b[39mReturns the indices of the maximum values along an axis.\u001b[39;00m\n\u001b[0;32m   1131\u001b[0m \n\u001b[1;32m   (...)\u001b[0m\n\u001b[0;32m   1213\u001b[0m \u001b[39m(2, 1, 4)\u001b[39;00m\n\u001b[0;32m   1214\u001b[0m \u001b[39m\"\"\"\u001b[39;00m\n\u001b[0;32m   1215\u001b[0m kwds \u001b[39m=\u001b[39m {\u001b[39m'\u001b[39m\u001b[39mkeepdims\u001b[39m\u001b[39m'\u001b[39m: keepdims} \u001b[39mif\u001b[39;00m keepdims \u001b[39mis\u001b[39;00m \u001b[39mnot\u001b[39;00m np\u001b[39m.\u001b[39m_NoValue \u001b[39melse\u001b[39;00m {}\n\u001b[1;32m-> 1216\u001b[0m \u001b[39mreturn\u001b[39;00m _wrapfunc(a, \u001b[39m'\u001b[39m\u001b[39margmax\u001b[39m\u001b[39m'\u001b[39m, axis\u001b[39m=\u001b[39maxis, out\u001b[39m=\u001b[39mout, \u001b[39m*\u001b[39m\u001b[39m*\u001b[39mkwds)\n",
      "File \u001b[1;32mc:\\Users\\amirh\\AppData\\Local\\Programs\\Python\\Python39\\lib\\site-packages\\numpy\\core\\fromnumeric.py:57\u001b[0m, in \u001b[0;36m_wrapfunc\u001b[1;34m(obj, method, *args, **kwds)\u001b[0m\n\u001b[0;32m     54\u001b[0m     \u001b[39mreturn\u001b[39;00m _wrapit(obj, method, \u001b[39m*\u001b[39margs, \u001b[39m*\u001b[39m\u001b[39m*\u001b[39mkwds)\n\u001b[0;32m     56\u001b[0m \u001b[39mtry\u001b[39;00m:\n\u001b[1;32m---> 57\u001b[0m     \u001b[39mreturn\u001b[39;00m bound(\u001b[39m*\u001b[39margs, \u001b[39m*\u001b[39m\u001b[39m*\u001b[39mkwds)\n\u001b[0;32m     58\u001b[0m \u001b[39mexcept\u001b[39;00m \u001b[39mTypeError\u001b[39;00m:\n\u001b[0;32m     59\u001b[0m     \u001b[39m# A TypeError occurs if the object does have such a method in its\u001b[39;00m\n\u001b[0;32m     60\u001b[0m     \u001b[39m# class, but its signature is not identical to that of NumPy's. This\u001b[39;00m\n\u001b[1;32m   (...)\u001b[0m\n\u001b[0;32m     64\u001b[0m     \u001b[39m# Call _wrapit from within the except clause to ensure a potential\u001b[39;00m\n\u001b[0;32m     65\u001b[0m     \u001b[39m# exception has a traceback chain.\u001b[39;00m\n\u001b[0;32m     66\u001b[0m     \u001b[39mreturn\u001b[39;00m _wrapit(obj, method, \u001b[39m*\u001b[39margs, \u001b[39m*\u001b[39m\u001b[39m*\u001b[39mkwds)\n",
      "\u001b[1;31mKeyboardInterrupt\u001b[0m: "
     ]
    }
   ],
   "source": [
    "import matplotlib.pyplot as plt\n",
    "import matplotlib as mpl\n",
    "\n",
    "data_collect = 100 # data collection rate\n",
    "max_ep = 5000 # max episode for performance check\n",
    "\n",
    "## performance check based on elapsed episodes (training)\n",
    "\n",
    "success_list_1 = q_performance(env1,max_ep,data_collect)\n",
    "print('Env1 done')\n",
    "success_list_2 = q_performance(env2,max_ep,data_collect)\n",
    "print('Env2 done')\n",
    "success_list_3 = q_performance(env3,max_ep,data_collect)\n",
    "print('Env3 done')\n",
    "success_list_4 = q_performance(env4,max_ep,data_collect)\n",
    "print('Env4 done')\n",
    "success_list_5 = q_performance(env5,max_ep,data_collect)\n",
    "print('Env5 done')\n",
    "success_list_6 = q_performance(env6,max_ep,data_collect)\n",
    "print('Env6 done')\n",
    "\n",
    "## ploting the data\n",
    "\n",
    "data_points = max_ep/data_collect\n",
    "data_points_array = np.array(list(range(0,int(data_points))))\n",
    "\n",
    "print(data_points_array,success_list)\n",
    "\n",
    "fig, ax = plt.subplots()\n",
    "\n",
    "plt.scatter(data_points_array,success_list_1,c='C1',edgecolor =\"red\",linewidths=0.1,marker='o',s=10, alpha=0.5,label='Env1')\n",
    "plt.scatter(data_points_array,success_list_2,c='C2',edgecolor =\"red\",linewidths=0.1,marker='s',s=10, alpha=0.5,label='Env2')\n",
    "plt.scatter(data_points_array,success_list_3,c='C3',edgecolor =\"red\",linewidths=0.1,marker='X',s=10, alpha=0.5,label='Env3')\n",
    "plt.scatter(data_points_array,success_list_4,c='C4',edgecolor =\"red\",linewidths=0.1,marker='D',s=10, alpha=0.5,label='Env4')\n",
    "plt.scatter(data_points_array,success_list_5,c='C5',edgecolor =\"red\",linewidths=0.1,marker='p',s=10, alpha=0.5,label='Env5')\n",
    "plt.scatter(data_points_array,success_list_6,c='C6',edgecolor =\"red\",linewidths=0.1,marker='*',s=10, alpha=0.5,label='Env6')\n",
    "\n",
    "plt.title('Performance check for')\n",
    "plt.xlabel('Elapsed episode pecentage')\n",
    "plt.ylabel('Performance per data collect rate')\n",
    "\n",
    "leg = ax.legend(scatterpoints=1, frameon=True, labelspacing=1, title='Different maps')\n",
    "plt.show()"
   ]
  },
  {
   "cell_type": "code",
   "execution_count": 88,
   "metadata": {},
   "outputs": [
    {
     "name": "stdout",
     "output_type": "stream",
     "text": [
      "[ 0  1  2  3  4  5  6  7  8  9 10 11 12 13 14 15 16 17 18 19 20 21 22 23\n",
      " 24 25 26 27 28 29 30 31 32 33 34 35 36 37 38 39 40 41 42 43 44 45 46 47\n",
      " 48 49] []\n"
     ]
    },
    {
     "ename": "ValueError",
     "evalue": "x and y must be the same size",
     "output_type": "error",
     "traceback": [
      "\u001b[1;31m---------------------------------------------------------------------------\u001b[0m",
      "\u001b[1;31mValueError\u001b[0m                                Traceback (most recent call last)",
      "Cell \u001b[1;32mIn [88], line 8\u001b[0m\n\u001b[0;32m      6\u001b[0m data_points_array \u001b[39m=\u001b[39m np\u001b[39m.\u001b[39marray(\u001b[39mlist\u001b[39m(\u001b[39mrange\u001b[39m(\u001b[39m0\u001b[39m,\u001b[39mint\u001b[39m(data_points))))\n\u001b[0;32m      7\u001b[0m \u001b[39mprint\u001b[39m(data_points_array,success_list)\n\u001b[1;32m----> 8\u001b[0m plt\u001b[39m.\u001b[39;49mscatter(data_points_array,success_list,c\u001b[39m=\u001b[39;49m\u001b[39m'\u001b[39;49m\u001b[39mb\u001b[39;49m\u001b[39m'\u001b[39;49m,edgecolor \u001b[39m=\u001b[39;49m\u001b[39m\"\u001b[39;49m\u001b[39mred\u001b[39;49m\u001b[39m\"\u001b[39;49m,linewidths\u001b[39m=\u001b[39;49m\u001b[39m0.1\u001b[39;49m,marker\u001b[39m=\u001b[39;49m\u001b[39m'\u001b[39;49m\u001b[39mp\u001b[39;49m\u001b[39m'\u001b[39;49m,s\u001b[39m=\u001b[39;49m\u001b[39m4\u001b[39;49m, alpha\u001b[39m=\u001b[39;49m\u001b[39m0.5\u001b[39;49m)\n\u001b[0;32m     10\u001b[0m plt\u001b[39m.\u001b[39mtitle(\u001b[39m'\u001b[39m\u001b[39mPerformance check for\u001b[39m\u001b[39m'\u001b[39m,max_ep,\u001b[39m'\u001b[39m\u001b[39mData collection rate\u001b[39m\u001b[39m'\u001b[39m,data_collect)\n\u001b[0;32m     11\u001b[0m plt\u001b[39m.\u001b[39mxlabel(\u001b[39m'\u001b[39m\u001b[39mElapsed episode pecentage\u001b[39m\u001b[39m'\u001b[39m)\n",
      "File \u001b[1;32mc:\\Users\\amirh\\AppData\\Local\\Programs\\Python\\Python39\\lib\\site-packages\\matplotlib\\pyplot.py:2790\u001b[0m, in \u001b[0;36mscatter\u001b[1;34m(x, y, s, c, marker, cmap, norm, vmin, vmax, alpha, linewidths, edgecolors, plotnonfinite, data, **kwargs)\u001b[0m\n\u001b[0;32m   2785\u001b[0m \u001b[39m@_copy_docstring_and_deprecators\u001b[39m(Axes\u001b[39m.\u001b[39mscatter)\n\u001b[0;32m   2786\u001b[0m \u001b[39mdef\u001b[39;00m \u001b[39mscatter\u001b[39m(\n\u001b[0;32m   2787\u001b[0m         x, y, s\u001b[39m=\u001b[39m\u001b[39mNone\u001b[39;00m, c\u001b[39m=\u001b[39m\u001b[39mNone\u001b[39;00m, marker\u001b[39m=\u001b[39m\u001b[39mNone\u001b[39;00m, cmap\u001b[39m=\u001b[39m\u001b[39mNone\u001b[39;00m, norm\u001b[39m=\u001b[39m\u001b[39mNone\u001b[39;00m,\n\u001b[0;32m   2788\u001b[0m         vmin\u001b[39m=\u001b[39m\u001b[39mNone\u001b[39;00m, vmax\u001b[39m=\u001b[39m\u001b[39mNone\u001b[39;00m, alpha\u001b[39m=\u001b[39m\u001b[39mNone\u001b[39;00m, linewidths\u001b[39m=\u001b[39m\u001b[39mNone\u001b[39;00m, \u001b[39m*\u001b[39m,\n\u001b[0;32m   2789\u001b[0m         edgecolors\u001b[39m=\u001b[39m\u001b[39mNone\u001b[39;00m, plotnonfinite\u001b[39m=\u001b[39m\u001b[39mFalse\u001b[39;00m, data\u001b[39m=\u001b[39m\u001b[39mNone\u001b[39;00m, \u001b[39m*\u001b[39m\u001b[39m*\u001b[39mkwargs):\n\u001b[1;32m-> 2790\u001b[0m     __ret \u001b[39m=\u001b[39m gca()\u001b[39m.\u001b[39mscatter(\n\u001b[0;32m   2791\u001b[0m         x, y, s\u001b[39m=\u001b[39ms, c\u001b[39m=\u001b[39mc, marker\u001b[39m=\u001b[39mmarker, cmap\u001b[39m=\u001b[39mcmap, norm\u001b[39m=\u001b[39mnorm,\n\u001b[0;32m   2792\u001b[0m         vmin\u001b[39m=\u001b[39mvmin, vmax\u001b[39m=\u001b[39mvmax, alpha\u001b[39m=\u001b[39malpha, linewidths\u001b[39m=\u001b[39mlinewidths,\n\u001b[0;32m   2793\u001b[0m         edgecolors\u001b[39m=\u001b[39medgecolors, plotnonfinite\u001b[39m=\u001b[39mplotnonfinite,\n\u001b[0;32m   2794\u001b[0m         \u001b[39m*\u001b[39m\u001b[39m*\u001b[39m({\u001b[39m\"\u001b[39m\u001b[39mdata\u001b[39m\u001b[39m\"\u001b[39m: data} \u001b[39mif\u001b[39;00m data \u001b[39mis\u001b[39;00m \u001b[39mnot\u001b[39;00m \u001b[39mNone\u001b[39;00m \u001b[39melse\u001b[39;00m {}), \u001b[39m*\u001b[39m\u001b[39m*\u001b[39mkwargs)\n\u001b[0;32m   2795\u001b[0m     sci(__ret)\n\u001b[0;32m   2796\u001b[0m     \u001b[39mreturn\u001b[39;00m __ret\n",
      "File \u001b[1;32mc:\\Users\\amirh\\AppData\\Local\\Programs\\Python\\Python39\\lib\\site-packages\\matplotlib\\__init__.py:1423\u001b[0m, in \u001b[0;36m_preprocess_data.<locals>.inner\u001b[1;34m(ax, data, *args, **kwargs)\u001b[0m\n\u001b[0;32m   1420\u001b[0m \u001b[39m@functools\u001b[39m\u001b[39m.\u001b[39mwraps(func)\n\u001b[0;32m   1421\u001b[0m \u001b[39mdef\u001b[39;00m \u001b[39minner\u001b[39m(ax, \u001b[39m*\u001b[39margs, data\u001b[39m=\u001b[39m\u001b[39mNone\u001b[39;00m, \u001b[39m*\u001b[39m\u001b[39m*\u001b[39mkwargs):\n\u001b[0;32m   1422\u001b[0m     \u001b[39mif\u001b[39;00m data \u001b[39mis\u001b[39;00m \u001b[39mNone\u001b[39;00m:\n\u001b[1;32m-> 1423\u001b[0m         \u001b[39mreturn\u001b[39;00m func(ax, \u001b[39m*\u001b[39m\u001b[39mmap\u001b[39m(sanitize_sequence, args), \u001b[39m*\u001b[39m\u001b[39m*\u001b[39mkwargs)\n\u001b[0;32m   1425\u001b[0m     bound \u001b[39m=\u001b[39m new_sig\u001b[39m.\u001b[39mbind(ax, \u001b[39m*\u001b[39margs, \u001b[39m*\u001b[39m\u001b[39m*\u001b[39mkwargs)\n\u001b[0;32m   1426\u001b[0m     auto_label \u001b[39m=\u001b[39m (bound\u001b[39m.\u001b[39marguments\u001b[39m.\u001b[39mget(label_namer)\n\u001b[0;32m   1427\u001b[0m                   \u001b[39mor\u001b[39;00m bound\u001b[39m.\u001b[39mkwargs\u001b[39m.\u001b[39mget(label_namer))\n",
      "File \u001b[1;32mc:\\Users\\amirh\\AppData\\Local\\Programs\\Python\\Python39\\lib\\site-packages\\matplotlib\\axes\\_axes.py:4520\u001b[0m, in \u001b[0;36mAxes.scatter\u001b[1;34m(self, x, y, s, c, marker, cmap, norm, vmin, vmax, alpha, linewidths, edgecolors, plotnonfinite, **kwargs)\u001b[0m\n\u001b[0;32m   4518\u001b[0m y \u001b[39m=\u001b[39m np\u001b[39m.\u001b[39mma\u001b[39m.\u001b[39mravel(y)\n\u001b[0;32m   4519\u001b[0m \u001b[39mif\u001b[39;00m x\u001b[39m.\u001b[39msize \u001b[39m!=\u001b[39m y\u001b[39m.\u001b[39msize:\n\u001b[1;32m-> 4520\u001b[0m     \u001b[39mraise\u001b[39;00m \u001b[39mValueError\u001b[39;00m(\u001b[39m\"\u001b[39m\u001b[39mx and y must be the same size\u001b[39m\u001b[39m\"\u001b[39m)\n\u001b[0;32m   4522\u001b[0m \u001b[39mif\u001b[39;00m s \u001b[39mis\u001b[39;00m \u001b[39mNone\u001b[39;00m:\n\u001b[0;32m   4523\u001b[0m     s \u001b[39m=\u001b[39m (\u001b[39m20\u001b[39m \u001b[39mif\u001b[39;00m mpl\u001b[39m.\u001b[39mrcParams[\u001b[39m'\u001b[39m\u001b[39m_internal.classic_mode\u001b[39m\u001b[39m'\u001b[39m] \u001b[39melse\u001b[39;00m\n\u001b[0;32m   4524\u001b[0m          mpl\u001b[39m.\u001b[39mrcParams[\u001b[39m'\u001b[39m\u001b[39mlines.markersize\u001b[39m\u001b[39m'\u001b[39m] \u001b[39m*\u001b[39m\u001b[39m*\u001b[39m \u001b[39m2.0\u001b[39m)\n",
      "\u001b[1;31mValueError\u001b[0m: x and y must be the same size"
     ]
    },
    {
     "data": {
      "image/png": "[encoded data removed]",
      "text/plain": [
       "<Figure size 640x480 with 1 Axes>"
      ]
     },
     "metadata": {},
     "output_type": "display_data"
    }
   ],
   "source": [
    "import numpy as np\n",
    "import matplotlib.pyplot as plt\n",
    "import matplotlib as mpl\n",
    "\n",
    "data_points = max_ep/data_collect\n",
    "data_points_array = np.array(list(range(0,int(data_points))))\n",
    "print(data_points_array,success_list)\n",
    "plt.scatter(data_points_array,success_list,c='b',edgecolor =\"red\",linewidths=0.1,marker='p',s=4, alpha=0.5)\n",
    "\n",
    "plt.title('Performance check for',max_ep,'Data collection rate',data_collect)\n",
    "plt.xlabel('Elapsed episode pecentage')\n",
    "plt.ylabel('Performance per data collect rate')\n",
    "\n",
    "plt.show()\n"
   ]
  },
  {
   "cell_type": "code",
   "execution_count": 14,
   "metadata": {},
   "outputs": [],
   "source": [
    "def Q_policy(env,qtable,ep):\n",
    "    env.reset()\n",
    "\n",
    "    for episode in range(ep):\n",
    "        state = env.reset()\n",
    "        step = 0\n",
    "        done = False\n",
    "        print(\"****************************************************\")\n",
    "        print(\"EPISODE \", episode)\n",
    "\n",
    "        for step in range(ep):\n",
    "            #env.render()\n",
    "            # Take the action (index) that have the maximum expected future reward given that state\n",
    "            action = np.argmax(qtable[state,:])\n",
    "            \n",
    "            new_state, reward, done, info = env.step(action)\n",
    "            \n",
    "            if done:\n",
    "                break\n",
    "            state = new_state\n",
    "    #env.close()"
   ]
  },
  {
   "cell_type": "code",
   "execution_count": 19,
   "metadata": {},
   "outputs": [
    {
     "name": "stdout",
     "output_type": "stream",
     "text": [
      "****************************************************\n",
      "EPISODE  0\n"
     ]
    },
    {
     "ename": "IndexError",
     "evalue": "only integers, slices (`:`), ellipsis (`...`), numpy.newaxis (`None`) and integer or boolean arrays are valid indices",
     "output_type": "error",
     "traceback": [
      "\u001b[1;31m---------------------------------------------------------------------------\u001b[0m",
      "\u001b[1;31mIndexError\u001b[0m                                Traceback (most recent call last)",
      "Cell \u001b[1;32mIn [19], line 1\u001b[0m\n\u001b[1;32m----> 1\u001b[0m Q_policy(env,qtable,ep \u001b[39m=\u001b[39;49m \u001b[39m1000\u001b[39;49m)\n",
      "Cell \u001b[1;32mIn [14], line 14\u001b[0m, in \u001b[0;36mQ_policy\u001b[1;34m(env, qtable, ep)\u001b[0m\n\u001b[0;32m      9\u001b[0m \u001b[39mprint\u001b[39m(\u001b[39m\"\u001b[39m\u001b[39mEPISODE \u001b[39m\u001b[39m\"\u001b[39m, episode)\n\u001b[0;32m     11\u001b[0m \u001b[39mfor\u001b[39;00m step \u001b[39min\u001b[39;00m \u001b[39mrange\u001b[39m(ep):\n\u001b[0;32m     12\u001b[0m     \u001b[39m#env.render()\u001b[39;00m\n\u001b[0;32m     13\u001b[0m     \u001b[39m# Take the action (index) that have the maximum expected future reward given that state\u001b[39;00m\n\u001b[1;32m---> 14\u001b[0m     action \u001b[39m=\u001b[39m np\u001b[39m.\u001b[39margmax(qtable[state,:])\n\u001b[0;32m     16\u001b[0m     new_state, reward, done, info \u001b[39m=\u001b[39m env\u001b[39m.\u001b[39mstep(action)\n\u001b[0;32m     18\u001b[0m     \u001b[39mif\u001b[39;00m done:\n",
      "\u001b[1;31mIndexError\u001b[0m: only integers, slices (`:`), ellipsis (`...`), numpy.newaxis (`None`) and integer or boolean arrays are valid indices"
     ]
    }
   ],
   "source": [
    "Q_policy(env,qtable,ep = 1000)"
   ]
  }
 ],
 "metadata": {
  "kernelspec": {
   "display_name": "Python 3.9.13 64-bit",
   "language": "python",
   "name": "python3"
  },
  "language_info": {
   "codemirror_mode": {
    "name": "ipython",
    "version": 3
   },
   "file_extension": ".py",
   "mimetype": "text/x-python",
   "name": "python",
   "nbconvert_exporter": "python",
   "pygments_lexer": "ipython3",
   "version": "3.9.13"
  },
  "orig_nbformat": 4,
  "vscode": {
   "interpreter": {
    "hash": "89e266229da60c573547888e6703b56490856979bb7179bff867b5e39a966f35"
   }
  }
 },
 "nbformat": 4,
 "nbformat_minor": 2
}
